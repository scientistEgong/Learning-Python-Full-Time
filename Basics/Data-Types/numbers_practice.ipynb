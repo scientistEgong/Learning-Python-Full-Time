{
 "cells": [
  {
   "cell_type": "markdown",
   "id": "94e8f8e1",
   "metadata": {
    "vscode": {
     "languageId": "plaintext"
    }
   },
   "source": [
    "**Integers in python**\n",
    "Integers are numerical data types in python.\n",
    "They are non decimal digits from 0 to 9, 10, -10.\n",
    "The class name for integer is the int."
   ]
  },
  {
   "cell_type": "code",
   "execution_count": 1,
   "id": "679f2645",
   "metadata": {},
   "outputs": [
    {
     "data": {
      "text/plain": [
       "1"
      ]
     },
     "execution_count": 1,
     "metadata": {},
     "output_type": "execute_result"
    }
   ],
   "source": [
    "# common integers \n",
    "x = 1\n",
    "x"
   ]
  },
  {
   "cell_type": "code",
   "execution_count": 2,
   "id": "c0a0e69d",
   "metadata": {},
   "outputs": [
    {
     "data": {
      "text/plain": [
       "100"
      ]
     },
     "execution_count": 2,
     "metadata": {},
     "output_type": "execute_result"
    }
   ],
   "source": [
    "# Integer variable\n",
    "x = 100\n",
    "x"
   ]
  },
  {
   "cell_type": "code",
   "execution_count": 3,
   "id": "b27cad4f",
   "metadata": {},
   "outputs": [
    {
     "data": {
      "text/plain": [
       "400000000000000000000000000000000000000"
      ]
     },
     "execution_count": 3,
     "metadata": {},
     "output_type": "execute_result"
    }
   ],
   "source": [
    "# int example\n",
    "x = 400000000000000000000000000000000000000\n",
    "x"
   ]
  },
  {
   "cell_type": "code",
   "execution_count": 4,
   "id": "9ab91578",
   "metadata": {},
   "outputs": [
    {
     "data": {
      "text/plain": [
       "2000000"
      ]
     },
     "execution_count": 4,
     "metadata": {},
     "output_type": "execute_result"
    }
   ],
   "source": [
    "# Integer literals are values that are written explicitly.\n",
    "x = 2000000 # int literal\n",
    "x"
   ]
  },
  {
   "cell_type": "code",
   "execution_count": 5,
   "id": "6eb45fad",
   "metadata": {},
   "outputs": [
    {
     "data": {
      "text/plain": [
       "4"
      ]
     },
     "execution_count": 5,
     "metadata": {},
     "output_type": "execute_result"
    }
   ],
   "source": [
    "# Non int literal\n",
    "x = int(\"4\")\n",
    "x"
   ]
  },
  {
   "cell_type": "code",
   "execution_count": null,
   "id": "8ba2bd84",
   "metadata": {},
   "outputs": [
    {
     "data": {
      "text/plain": [
       "200000000000000000000"
      ]
     },
     "execution_count": 6,
     "metadata": {},
     "output_type": "execute_result"
    }
   ],
   "source": [
    "# Large numbers can be handled using delimiters.\n",
    "x = 200_000_000_000_000_000_000\n",
    "x"
   ]
  },
  {
   "cell_type": "code",
   "execution_count": null,
   "id": "b591355e",
   "metadata": {},
   "outputs": [
    {
     "name": "stdout",
     "output_type": "stream",
     "text": [
      "243\n",
      "148\n",
      "34\n"
     ]
    }
   ],
   "source": [
    "# Integers can be binary, octal or hexadecimal\n",
    "# Binary valies\n",
    "binary_int = 0b11110011\n",
    "print(binary_int)  # 243\n",
    "\n",
    "\n",
    "# Octal values\n",
    "octal_int = 0o224\n",
    "print(octal_int)  # 148\n",
    "\n",
    "\n",
    "# Hexadecimal values.\n",
    "hex_int = 0x22\n",
    "print(hex_int)  # 34\n",
    "\n",
    "\n"
   ]
  },
  {
   "cell_type": "code",
   "execution_count": 19,
   "id": "fb699a84",
   "metadata": {},
   "outputs": [
    {
     "name": "stdout",
     "output_type": "stream",
     "text": [
      "<class 'int'>\n"
     ]
    }
   ],
   "source": [
    "# Integer Literals are objects of the int class, and the type() method is used to get the class name.\n",
    "number = 33\n",
    "int_method_validation = type(number)\n",
    "print(int_method_validation)"
   ]
  },
  {
   "cell_type": "markdown",
   "id": "524fc438",
   "metadata": {},
   "source": [
    "**Floating points numbers**\n",
    "Floating point numbers are literals with decimal points.\n"
   ]
  },
  {
   "cell_type": "code",
   "execution_count": 20,
   "id": "6a773215",
   "metadata": {},
   "outputs": [
    {
     "data": {
      "text/plain": [
       "2.344"
      ]
     },
     "execution_count": 20,
     "metadata": {},
     "output_type": "execute_result"
    }
   ],
   "source": [
    "# Example of floating point numbrs.\n",
    "x = 2.344\n",
    "x"
   ]
  },
  {
   "cell_type": "code",
   "execution_count": 21,
   "id": "9bdc68fc",
   "metadata": {},
   "outputs": [
    {
     "data": {
      "text/plain": [
       "-22.5"
      ]
     },
     "execution_count": 21,
     "metadata": {},
     "output_type": "execute_result"
    }
   ],
   "source": [
    "# Negative float Number\n",
    "x = -22.5\n",
    "x"
   ]
  },
  {
   "cell_type": "code",
   "execution_count": null,
   "id": "dc57b59f",
   "metadata": {},
   "outputs": [
    {
     "data": {
      "text/plain": [
       "10000000.0"
      ]
     },
     "execution_count": 24,
     "metadata": {},
     "output_type": "execute_result"
    }
   ],
   "source": [
    "# Creating floating point numbers using exponential notation.\n",
    "x = 1e7\n",
    "x"
   ]
  },
  {
   "cell_type": "code",
   "execution_count": null,
   "id": "8b9c8267",
   "metadata": {},
   "outputs": [],
   "source": []
  }
 ],
 "metadata": {
  "kernelspec": {
   "display_name": ".venv",
   "language": "python",
   "name": "python3"
  },
  "language_info": {
   "codemirror_mode": {
    "name": "ipython",
    "version": 3
   },
   "file_extension": ".py",
   "mimetype": "text/x-python",
   "name": "python",
   "nbconvert_exporter": "python",
   "pygments_lexer": "ipython3",
   "version": "3.13.7"
  }
 },
 "nbformat": 4,
 "nbformat_minor": 5
}
