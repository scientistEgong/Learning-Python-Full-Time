{
 "cells": [
  {
   "cell_type": "code",
   "execution_count": 1,
   "id": "4d44e575",
   "metadata": {},
   "outputs": [
    {
     "name": "stdout",
     "output_type": "stream",
     "text": [
      "True\n",
      "False\n",
      "True\n"
     ]
    }
   ],
   "source": [
    "# Check if a number is even\n",
    "number = int(input(\"Enter a numkber: \"))\n",
    "print(number == number)\n",
    "print(number > 5)\n",
    "print(number < 7)"
   ]
  },
  {
   "cell_type": "code",
   "execution_count": 2,
   "id": "106ee04c",
   "metadata": {},
   "outputs": [
    {
     "name": "stdout",
     "output_type": "stream",
     "text": [
      "False\n",
      "True\n"
     ]
    }
   ],
   "source": [
    "# compare two ip addresses\n",
    "ip_address_1 = \"189.98.976.0\"\n",
    "ip_address_2 = \"190.55.432.1\"\n",
    "\n",
    "print(ip_address_1 == ip_address_2)\n",
    "print(ip_address_1 != ip_address_2)"
   ]
  },
  {
   "cell_type": "code",
   "execution_count": 3,
   "id": "d4a22ea1",
   "metadata": {},
   "outputs": [
    {
     "name": "stdout",
     "output_type": "stream",
     "text": [
      "True\n"
     ]
    }
   ],
   "source": [
    "# Verify if a port number is within a range\n",
    "\n",
    "port_range = range(1, 65535)\n",
    "port_input = int(input(\"Enter a port number: \"))\n",
    "\n",
    "print(port_input in port_range)"
   ]
  },
  {
   "cell_type": "code",
   "execution_count": 4,
   "id": "9f495dd4",
   "metadata": {},
   "outputs": [
    {
     "name": "stdout",
     "output_type": "stream",
     "text": [
      "False\n"
     ]
    }
   ],
   "source": [
    "# Check if the lenght of a password is at least 8 characters.\n",
    "\n",
    "password_input = input(\"Enter your password: \")\n",
    "password_length = len(password_input)\n",
    "\n",
    "print(password_length >= 8)"
   ]
  },
  {
   "cell_type": "code",
   "execution_count": 5,
   "id": "a3862ceb",
   "metadata": {},
   "outputs": [
    {
     "name": "stdout",
     "output_type": "stream",
     "text": [
      "True\n"
     ]
    }
   ],
   "source": [
    "# Test if two strings are equal.\n",
    "string1 = input(\"Enter a string: \")\n",
    "string2 = input('Enter the second string: ')\n",
    "\n",
    "print(string1 == string2)"
   ]
  },
  {
   "cell_type": "markdown",
   "id": "2940356e",
   "metadata": {},
   "source": [
    "User input Handling."
   ]
  },
  {
   "cell_type": "code",
   "execution_count": 6,
   "id": "cc1c3683",
   "metadata": {},
   "outputs": [
    {
     "name": "stdout",
     "output_type": "stream",
     "text": [
      "Hello 55!\n"
     ]
    }
   ],
   "source": [
    "# Ask user for their name and greet them.\n",
    "username = input('Enter your firtname, and your lastname separated by space: ').title()\n",
    "print(F\"Hello {username}!\")"
   ]
  },
  {
   "cell_type": "code",
   "execution_count": 7,
   "id": "83bdb254",
   "metadata": {},
   "outputs": [
    {
     "name": "stdout",
     "output_type": "stream",
     "text": [
      "The sentence '5' contains 1 words\n"
     ]
    }
   ],
   "source": [
    "# Input a sentence and print the number of words.\n",
    "sentence_input = input(\"Type in sentence: \").title().strip()\n",
    "sentence_length = len(sentence_input.split())\n",
    "\n",
    "print(f\"The sentence '{sentence_input}' contains {sentence_length} words\")"
   ]
  },
  {
   "cell_type": "code",
   "execution_count": 8,
   "id": "1edd33c0",
   "metadata": {},
   "outputs": [
    {
     "name": "stdout",
     "output_type": "stream",
     "text": [
      "**5\n"
     ]
    }
   ],
   "source": [
    "# Masl a username with asterisk.\n",
    "username = input(\"Enter your first and lastname, seperated by commas: \").title()\n",
    "\n",
    "print(f\"**{username}\")"
   ]
  },
  {
   "cell_type": "code",
   "execution_count": 9,
   "id": "e729447e",
   "metadata": {},
   "outputs": [
    {
     "name": "stdout",
     "output_type": "stream",
     "text": [
      "You're 2020 years old.\n"
     ]
    }
   ],
   "source": [
    "# Ask for a year and calculate current age.\n",
    "from datetime import datetime\n",
    "\n",
    "# current year\n",
    "current_year = datetime.now().year\n",
    "\n",
    "# User input\n",
    "year_input = int(input(\"Enter your birth year: \"))\n",
    "current_age = current_year - year_input\n",
    "\n",
    "print(f\"You're {current_age} years old.\")"
   ]
  },
  {
   "cell_type": "code",
   "execution_count": null,
   "id": "ffe343fd",
   "metadata": {},
   "outputs": [
    {
     "name": "stdout",
     "output_type": "stream",
     "text": [
      "0o726746425\n"
     ]
    }
   ],
   "source": [
    "# Input an ip address and split it into octet.\n",
    "user_input = input(\"Enter an ip address: \")\n",
    "\n",
    "octet_conversion = \"\".join(user_input.replace(\".\", \"\").split())\n",
    "octet_casing = int(octet_conversion)\n",
    "print(oct(octet_casing))\n",
    "\n",
    "\n",
    "# Input an IP address and split it into octets\n",
    "user_input = input(\"Enter an IP address: \")\n",
    "\n",
    "# Split on the dots\n",
    "octets = user_input.strip().split('.')\n",
    "\n",
    "# Print each octet\n",
    "for i, octet in enumerate(octets, 1):\n",
    "    print(f\"Octet {i}: {octet}\")\n"
   ]
  },
  {
   "cell_type": "code",
   "execution_count": null,
   "id": "dd745293",
   "metadata": {},
   "outputs": [],
   "source": []
  }
 ],
 "metadata": {
  "kernelspec": {
   "display_name": "venv",
   "language": "python",
   "name": "python3"
  },
  "language_info": {
   "codemirror_mode": {
    "name": "ipython",
    "version": 3
   },
   "file_extension": ".py",
   "mimetype": "text/x-python",
   "name": "python",
   "nbconvert_exporter": "python",
   "pygments_lexer": "ipython3",
   "version": "3.13.7"
  }
 },
 "nbformat": 4,
 "nbformat_minor": 5
}
