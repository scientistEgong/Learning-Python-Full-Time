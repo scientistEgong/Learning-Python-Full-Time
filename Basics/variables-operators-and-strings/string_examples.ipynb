{
 "cells": [
  {
   "cell_type": "markdown",
   "id": "c63a613e",
   "metadata": {},
   "source": [
    "##                  **Strings**\n",
    "\n",
    "Strings are data structures that are enclosed in quotation marks.\n",
    "\n",
    "\n",
    "**Strings** are used to represent data in text enclosed in quotation marks.\n",
    "They are verified using the python function type()\n",
    "\n",
    "**Strings** have three main properties.\n",
    "\n",
    "~ Characters: These are the individual letters or symbols saved or entered in a string.\n",
    "\n",
    "~ Length: This is a measure of the entire length of the string. The length of a string is determined using the len() function.\n",
    "\n",
    "~ Sequence: This indicates that strings appear in numbered positions for referencing and indexing.\n",
    "\n",
    "\n",
    "**NB**\n",
    "**Literals** Literals are statements or strings saved in quotation marks.\n",
    "\n",
    "\n",
    "**Delimeters**\n",
    "Delimeters ( ''' or \"\"\") determine where a string starts and where it ends.\n",
    "When using backslash ensure the is not quotation mark at the front of the backslash and the beginning of the new line of statement.\n",
    "\n",
    "e.g \"my name is Johsua/\n",
    "     Lets be honest, do you love programming in python?\"\n",
    "\n",
    "\n",
    "They could be in;\n",
    "~ single qoutation marks ''\n",
    "~ Double qoutation marks \"\"\n",
    "~ Triple quotation marks (\"\"\"\"\"\")\n",
    "\n",
    "The triple quotation marks are usually used for docs strings in functions,\n",
    "to explain what the function does.\n",
    "\n",
    "Strings could be used in the following Methods;\n",
    "changing cases with string methods.\n",
    "\n",
    "\n",
    ".title() \n",
    "This is a python method (A method is an action that is performed  on a piece of data) that formats the first character of a string to titlecase.\n",
    "\n",
    ".lower()\n",
    "This formats the characters of a string to lowercase."
   ]
  },
  {
   "cell_type": "code",
   "execution_count": 5,
   "id": "56d1f98b",
   "metadata": {},
   "outputs": [
    {
     "name": "stdout",
     "output_type": "stream",
     "text": [
      "I am from 'Nigeria' a county in Africa.\n"
     ]
    }
   ],
   "source": [
    "# Basic string examples.\n",
    "name_of_country = \"nigeria\"\n",
    "continent = \"africa\"\n",
    "print(\"I am from '{}' a county in {}.\".format(name_of_country.title(), continent.title()))"
   ]
  },
  {
   "cell_type": "code",
   "execution_count": 6,
   "id": "0808d792",
   "metadata": {},
   "outputs": [
    {
     "name": "stdout",
     "output_type": "stream",
     "text": [
      "africa and antartica\n"
     ]
    }
   ],
   "source": [
    "# Foramting strings to lowercase.\n",
    "name_of_continent = \"Africa and ANTARTICA\"\n",
    "print(name_of_continent.lower())"
   ]
  },
  {
   "cell_type": "code",
   "execution_count": 7,
   "id": "4b5d0ffb",
   "metadata": {},
   "outputs": [
    {
     "name": "stdout",
     "output_type": "stream",
     "text": [
      "AFRICA AND ANTARTICA\n"
     ]
    }
   ],
   "source": [
    "# Formating strings to uppercase.\n",
    "print(name_of_continent.upper())"
   ]
  },
  {
   "cell_type": "code",
   "execution_count": null,
   "id": "3b20b487",
   "metadata": {},
   "outputs": [
    {
     "name": "stdout",
     "output_type": "stream",
     "text": [
      "<class 'str'>\n"
     ]
    }
   ],
   "source": [
    "# Verify  variable data type.\n",
    "print(type(name_of_continent))  # This gives an output that the variable\n",
    "                                # is an instance of the string data type."
   ]
  },
  {
   "cell_type": "code",
   "execution_count": null,
   "id": "0ad28348",
   "metadata": {},
   "outputs": [
    {
     "name": "stdout",
     "output_type": "stream",
     "text": [
      "University of Oxford is a string literal.\n",
      "It was manually save in the variable,not inputed from the input prompt\n",
      "\n",
      "Delimiters show  where the string starts and where it ends.\n",
      "'If I used double qoutes for this statement'Python flags it as an error.\n"
     ]
    }
   ],
   "source": [
    "# string literals and delimiters\n",
    "name_of_university = \"University of Oxford\"\n",
    "print(\"{} is a string literal.\\nIt was manually save in the variable,\\\n",
    "not inputed from the input prompt.\".format(name_of_university))\n",
    "\n",
    "print(\"\\nDelimiters show  where the string starts and where it ends.\\n\"\n",
    "\"'If I used double qoutes for this statement'\\\n",
    "Python flags it as an error.\")       \n",
    "\n"
   ]
  },
  {
   "cell_type": "code",
   "execution_count": null,
   "id": "1b948a8b",
   "metadata": {},
   "outputs": [],
   "source": [
    "# Multiline strings."
   ]
  }
 ],
 "metadata": {
  "kernelspec": {
   "display_name": ".venv",
   "language": "python",
   "name": "python3"
  },
  "language_info": {
   "codemirror_mode": {
    "name": "ipython",
    "version": 3
   },
   "file_extension": ".py",
   "mimetype": "text/x-python",
   "name": "python",
   "nbconvert_exporter": "python",
   "pygments_lexer": "ipython3",
   "version": "3.13.7"
  }
 },
 "nbformat": 4,
 "nbformat_minor": 5
}
