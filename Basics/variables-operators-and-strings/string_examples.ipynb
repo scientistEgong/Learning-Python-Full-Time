{
 "cells": [
  {
   "cell_type": "markdown",
   "id": "c63a613e",
   "metadata": {},
   "source": [
    "##                  **Strings**\n",
    "\n",
    "Strings are data structures that are enclosed in quotation marks.\n",
    "\n",
    "\n",
    "**Strings** are used to represent data in text enclosed in quotation marks.\n",
    "They are verified using the python function type()\n",
    "\n",
    "**Strings** have three main properties.\n",
    "\n",
    "~ Characters: These are the individual letters or symbols saved or entered in a string.\n",
    "\n",
    "~ Length: This is a measure of the entire length of the string. The length of a string is determined using the len() function.\n",
    "\n",
    "~ Sequence: This indicates that strings appear in numbered positions for referencing and indexing.\n",
    "\n",
    "\n",
    "**NB**\n",
    "**Literals** Literals are statements or strings saved in quotation marks.\n",
    "\n",
    "\n",
    "**Delimeters**\n",
    "Delimeters ( ''' or \"\"\") determine where a string starts and where it ends.\n",
    "When using backslash ensure the is not quotation mark at the front of the backslash and the beginning of the new line of statement.\n",
    "\n",
    "e.g \"my name is Johsua/\n",
    "     Lets be honest, do you love programming in python?\"\n",
    "\n",
    "\n",
    "They could be in;\n",
    "~ single qoutation marks ''\n",
    "~ Double qoutation marks \"\"\n",
    "~ Triple quotation marks (\"\"\"\"\"\")\n",
    "\n",
    "The triple quotation marks are usually used for docs strings in functions,\n",
    "to explain what the function does.\n",
    "\n",
    "Strings could be used in the following Methods;\n",
    "changing cases with string methods.\n",
    "\n",
    "\n",
    "\n",
    "** Case conversion**\n",
    "\n",
    ".title() \n",
    "This is a python method (A method is an action that is performed  on a piece of data) that formats the first character of a string to titlecase.\n",
    "\n",
    ".lower()\n",
    "This formats the characters of a string to lowercase.\n",
    "\n",
    ".capitalize()\n",
    "This converts the first character in a string to uppercase.\n",
    "\n",
    ".uppper()\n",
    "This converts the entire string to uppercase.\n",
    "\n",
    ".swapcase()\n",
    "Swaps the each letter of the string to either upper or lower characters.\n",
    "\n",
    ".casefold()\n",
    "This formats strings strictly to lowercase.\n",
    "\n",
    "\n",
    "** Searaching and Replacing**\n",
    ".find(x)\n",
    "This returns the index of the first occurrence of a substring, or -1 if not found.\n",
    "\n",
    ".rfind()\n",
    "This returns the highest index of a substring or -1 when not found.\n",
    "\n",
    ".index(x)\n",
    "This is similar to find, but this raises an error if the substring is not found.\n",
    "\n",
    "\n",
    "**Boolean check**\n",
    ".startswith(suffix)\n",
    "The startswith method checks for substrings at the first index of a string.\n",
    "\n",
    "\n",
    ".endswith(suffix)\n",
    "The endswith just like the startswith checks for substring at the end of a statement.\n",
    "\n",
    ".isalpha()\n",
    "checks if the string contains alphabets."
   ]
  },
  {
   "cell_type": "code",
   "execution_count": 1,
   "id": "56d1f98b",
   "metadata": {},
   "outputs": [
    {
     "name": "stdout",
     "output_type": "stream",
     "text": [
      "I am from 'Nigeria' a county in Africa.\n"
     ]
    }
   ],
   "source": [
    "# Basic string examples.\n",
    "name_of_country = \"nigeria\"\n",
    "continent = \"africa\"\n",
    "print(\"I am from '{}' a county in {}.\".format(name_of_country.title(), continent.title()))"
   ]
  },
  {
   "cell_type": "code",
   "execution_count": 2,
   "id": "0808d792",
   "metadata": {},
   "outputs": [
    {
     "name": "stdout",
     "output_type": "stream",
     "text": [
      "africa and antartica\n"
     ]
    }
   ],
   "source": [
    "# Foramting strings to lowercase.\n",
    "name_of_continent = \"Africa and ANTARTICA\"\n",
    "print(name_of_continent.lower())"
   ]
  },
  {
   "cell_type": "code",
   "execution_count": 3,
   "id": "4b5d0ffb",
   "metadata": {},
   "outputs": [
    {
     "name": "stdout",
     "output_type": "stream",
     "text": [
      "AFRICA AND ANTARTICA\n"
     ]
    }
   ],
   "source": [
    "# Formating strings to uppercase.\n",
    "print(name_of_continent.upper())"
   ]
  },
  {
   "cell_type": "code",
   "execution_count": 4,
   "id": "3b20b487",
   "metadata": {},
   "outputs": [
    {
     "name": "stdout",
     "output_type": "stream",
     "text": [
      "<class 'str'>\n"
     ]
    }
   ],
   "source": [
    "# Verify  variable data type.\n",
    "print(type(name_of_continent))  # This gives an output that the variable\n",
    "                                # is an instance of the string data type."
   ]
  },
  {
   "cell_type": "code",
   "execution_count": 5,
   "id": "0ad28348",
   "metadata": {},
   "outputs": [
    {
     "name": "stdout",
     "output_type": "stream",
     "text": [
      "University of Oxford is a string literal.\n",
      "It was manually save in the variable,not inputed from the input prompt.\n",
      "\n",
      "Delimiters show  where the string starts and where it ends.\n",
      "'If I used double qoutes for this statement'Python flags it as an error.\n"
     ]
    }
   ],
   "source": [
    "# string literals and delimiters\n",
    "name_of_university = \"University of Oxford\"\n",
    "print(\"{} is a string literal.\\nIt was manually save in the variable,\\\n",
    "not inputed from the input prompt.\".format(name_of_university))\n",
    "\n",
    "print(\"\\nDelimiters show  where the string starts and where it ends.\\n\"\n",
    "\"'If I used double qoutes for this statement'\\\n",
    "Python flags it as an error.\")       \n",
    "\n"
   ]
  },
  {
   "cell_type": "code",
   "execution_count": 6,
   "id": "1b948a8b",
   "metadata": {},
   "outputs": [
    {
     "name": "stdout",
     "output_type": "stream",
     "text": [
      "Uppercase: THE NATION'S ENCYCLOPEDIA\n",
      "Lowercase: the nation's encyclopedia\n",
      "Titled cased name: The Nation'S Encyclopedia\n",
      "Capitalized string: The nation's encyclopedia\n",
      "\n",
      "Original string the NATION'S eNCYCLOPEDIA\n",
      "Swapped letters: THE nation's Encyclopedia\n",
      "\n",
      "Case fold name: the nation's encyclopedia\n"
     ]
    }
   ],
   "source": [
    "# Caes conversion examples\n",
    "name = \"the NATION'S eNCYCLOPEDIA\"\n",
    "upper_cased_name = name.upper()\n",
    "lower_cased_name = name.lower()\n",
    "titled_Cased_name = name.title()\n",
    "capitalized_name = name.capitalize()\n",
    "swaped_letters_string = name.swapcase()\n",
    "case_fold_name = name.casefold()\n",
    "\n",
    "\n",
    "print(f\"Uppercase: {upper_cased_name}\")  # THE NATION'S ENCYCLOPEDIA\n",
    "print(f\"Lowercase: {lower_cased_name}\")  # the nation's encyclopedia\n",
    "print(f\"Titled cased name: {titled_Cased_name}\")  # The Nation's Encyclopedia\n",
    "print(f\"Capitalized string: {capitalized_name}\")  # The nations's encyclopedia\n",
    "print(f\"\\nOriginal string {name}\\nSwapped letters: {swaped_letters_string}\")  # THE nations's Encyclopedia\n",
    "print(f\"\\nCase fold name: {case_fold_name}\")  # the nation's encyclopedia"
   ]
  },
  {
   "cell_type": "code",
   "execution_count": 7,
   "id": "2fba6957",
   "metadata": {},
   "outputs": [
    {
     "name": "stdout",
     "output_type": "stream",
     "text": [
      "2\n",
      "Invalid name, Try again.\n",
      "-1\n"
     ]
    }
   ],
   "source": [
    "# Searching and Replacing.\n",
    "name = \"Ethical hackers hack with ethics.\"\n",
    "index_of_h_in_name = name.find(\"h\")\n",
    "print(index_of_h_in_name)\n",
    "\n",
    "name = input(\"Enter your name: \").strip()\n",
    "if name.lower().find(\"s\"):\n",
    "    print(\"Character found!\")\n",
    "\n",
    "else:\n",
    "    print(\"Invalid name, Try again.\")    \n",
    "\n",
    "# rfind\n",
    "r_find_of_name = name.rfind(\"hackers\")# -1, meaning it's not found.\n",
    "print(r_find_of_name)"
   ]
  },
  {
   "cell_type": "code",
   "execution_count": 8,
   "id": "3e49f996",
   "metadata": {},
   "outputs": [
    {
     "name": "stdout",
     "output_type": "stream",
     "text": [
      "Substring l not found in the string input.\n"
     ]
    }
   ],
   "source": [
    "# Testing index method\n",
    "string_input = input(\"Enter a string: \").strip()\n",
    "indexing_substring = input(\"Enter the substring you want to search in the string input: \").strip()\n",
    "\n",
    "try:\n",
    "    index_of_substring = string_input.index(indexing_substring)\n",
    "    print(f\"Substring {indexing_substring} found at index {index_of_substring}.\")\n",
    "\n",
    "except ValueError:\n",
    "    print(f\"Substring {indexing_substring} not found in the string input.\")\n",
    "\n"
   ]
  },
  {
   "cell_type": "code",
   "execution_count": 9,
   "id": "8641ce92",
   "metadata": {},
   "outputs": [
    {
     "name": "stdout",
     "output_type": "stream",
     "text": [
      "The string inputs starts with substring: 'n'.\n"
     ]
    }
   ],
   "source": [
    "# Experimenting with startswith method\n",
    "string_input = input(\"Enter a string: \").lower().strip()\n",
    "starts_with_substring = input(\"Enter the substring you want to check if the string input starts with: \").lower().strip()\n",
    "start_with_validation = string_input.startswith(starts_with_substring)\n",
    "\n",
    "if start_with_validation:\n",
    "    print(f\"The string inputs starts with substring: '{starts_with_substring}'.\")\n",
    "\n",
    "else:\n",
    "    print(f\"The string input does not start with substring: '{starts_with_substring}'.\")    "
   ]
  },
  {
   "cell_type": "code",
   "execution_count": 10,
   "id": "87d88a81",
   "metadata": {},
   "outputs": [
    {
     "name": "stdout",
     "output_type": "stream",
     "text": [
      "The string input ends with substring: 'h'.\n"
     ]
    }
   ],
   "source": [
    "# Experimenting with the endswith method.\n",
    "string_input = input(\"Enter a string: \").lower()\n",
    "ends_with_substring = input(\"Enter the substring you want to check in the string input: \").lower()\n",
    "ends_with_validation = string_input.endswith(ends_with_substring)\n",
    "\n",
    "if ends_with_validation:\n",
    "    print(f\"The string input ends with substring: '{ends_with_substring}'.\")\n",
    "\n",
    "else:\n",
    "    print(f\"The string input does not end with substring: '{ends_with_substring}'\")\n"
   ]
  },
  {
   "cell_type": "code",
   "execution_count": 5,
   "id": "597c0253",
   "metadata": {},
   "outputs": [
    {
     "name": "stdout",
     "output_type": "stream",
     "text": [
      "True\n",
      "False\n",
      "True\n",
      "False\n",
      "<built-in method isdecimal of str object at 0x000001D7080B6AF0>\n",
      "\n",
      "The isdecimal method check for decimal numbes.\n",
      "\u001b[1mNote\u001b[0m this does not return a boolean check for floating numbers. \n"
     ]
    }
   ],
   "source": [
    "# Validating boolean string checks.\n",
    "string_input = input(\"Enter a string, it could be a number, special character, or some random inputs: \")\n",
    "\n",
    "print(string_input.isalpha())  # This checks if the string contains only alphabets.\n",
    "print(string_input.isdigit())  # This checks if the string contains only digits.\n",
    "print(string_input.isalnum())  # This checks if the string contains both alphabets and digits.\n",
    "print(string_input.isspace())  # This checks if the string contains space.\n",
    "print(string_input.isdecimal)  # This checks if the string checks if all characters in the string are decimals.\n",
    "print(\"\\nThe isdecimal method check for decimal numbes.\\n\\033[1mNote\\033[0m this does not return a boolean check for floating numbers. \")\n"
   ]
  },
  {
   "cell_type": "code",
   "execution_count": null,
   "id": "5c68cfd4",
   "metadata": {},
   "outputs": [],
   "source": []
  }
 ],
 "metadata": {
  "kernelspec": {
   "display_name": ".venv",
   "language": "python",
   "name": "python3"
  },
  "language_info": {
   "codemirror_mode": {
    "name": "ipython",
    "version": 3
   },
   "file_extension": ".py",
   "mimetype": "text/x-python",
   "name": "python",
   "nbconvert_exporter": "python",
   "pygments_lexer": "ipython3",
   "version": "3.13.7"
  }
 },
 "nbformat": 4,
 "nbformat_minor": 5
}
